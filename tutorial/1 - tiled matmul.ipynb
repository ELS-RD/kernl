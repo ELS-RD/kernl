{
 "cells": [
  {
   "cell_type": "markdown",
   "source": [
    "# Tiled matmul\n",
    "\n",
    "In this simple tutorial we will see how to perform a `matmul` with tiling.\n",
    "Tiling is a technique based on matrix partition, each block is called a tile.\n",
    "\n",
    "With tiling, `matmul`:\n",
    "* computation can be performed in parallel, a domain where GPUs excels;\n",
    "* global memory (GM) access are limited, GM access being the GPU bottleneck (compared to computation).\n",
    "\n",
    "## GEMM introduction\n",
    "\n",
    "Below we define the problem size and initialize the matrices.\n",
    "In `GEMM` a problem is defined by 3 numbers: `KMN`.\n",
    "\n",
    "`D = α * A * B + β * C` with:\n",
    "* `D` shape is `MxN`\n",
    "* `A` shape is `MxK`\n",
    "* `B` shape is `KxN`\n",
    "* `C` shape is `MxN`\n",
    "* `α` and `β` are 2 constants\n",
    "\n",
    "> for readability, below `α` is implicitly set to 1 and `β` to 0 so `C` do not appear.\n",
    "> Obviously, re-introducing them would be very easy.\n"
   ],
   "metadata": {
    "collapsed": false,
    "pycharm": {
     "name": "#%% md\n"
    }
   }
  },
  {
   "cell_type": "code",
   "execution_count": 1,
   "metadata": {
    "collapsed": true,
    "pycharm": {
     "name": "#%%\n"
    }
   },
   "outputs": [],
   "source": [
    "import torch\n",
    "\n",
    "M, N0, K0 = 15, 9, 12\n",
    "\n",
    "A0 = torch.rand((M, K0))\n",
    "B0 = torch.rand((K0, N0))"
   ]
  },
  {
   "cell_type": "markdown",
   "source": [
    "# Simple matmul with tiling\n",
    "\n",
    "Simple example showing how we can perform a `matmul` through tiling.\n",
    "\n",
    "Basic introduction to the subject can be found here:\n",
    "\n",
    "* https://docs.nvidia.com/deeplearning/performance/dl-performance-matrix-multiplication/index.html\n",
    "* https://penny-xu.github.io/blog/tiled-matrix-multiplication\n",
    "\n",
    "Parallelization can be applied at each `M` and `N` for loop levels.\n",
    "However, best use of global memory access requires to be a bit smarter.\n",
    "Check our dedicated explanation in tutorials.\n",
    "\n",
    "Values used below are a arbitrary and small to be printable if needed.\n",
    "Rule of thumb in defining tile shape is:\n",
    "* large tile size increase data reuse, but decrease thread-level parallelism;\n",
    "* small tile size increase thread-level parallelism but reduce data reuse."
   ],
   "metadata": {
    "collapsed": false,
    "pycharm": {
     "name": "#%% md\n"
    }
   }
  },
  {
   "cell_type": "code",
   "execution_count": 2,
   "outputs": [],
   "source": [
    "# for simplification tile shapes are all multiple of matrix shapes\n",
    "# otherwise we would need to check matrix bounds and mask out of bounds values by 0s in tiles\n",
    "block_M, block_N0, block_K0 = M // 3, N0 // 3, K0 // 3\n",
    "\n",
    "accumulator0 = torch.zeros((M, N0))\n",
    "for index_M in range(0, M, block_M):\n",
    "    start_M = index_M\n",
    "    end_M = index_M + block_M\n",
    "\n",
    "    for index_N0 in range(0, N0, block_N0):\n",
    "        start_N0 = index_N0\n",
    "        end_N0 = index_N0 + block_N0\n",
    "\n",
    "        for index_K0 in range(0, K0, block_K0):\n",
    "            start_K0 = index_K0\n",
    "            end_K0 = index_K0 + block_K0\n",
    "\n",
    "            tile_A0 = A0[start_M:end_M, start_K0:end_K0]\n",
    "            tile_B0 = B0[start_K0:end_K0, start_N0:end_N0]\n",
    "            # @ means matmul in numpy and pytorch\n",
    "            accumulator0[start_M:end_M, start_N0:end_N0] += tile_A0 @ tile_B0\n",
    "\n",
    "assert torch.allclose(accumulator0, A0 @ B0)"
   ],
   "metadata": {
    "collapsed": false,
    "pycharm": {
     "name": "#%%\n"
    }
   }
  },
  {
   "cell_type": "code",
   "execution_count": 2,
   "outputs": [],
   "source": [],
   "metadata": {
    "collapsed": false,
    "pycharm": {
     "name": "#%%\n"
    }
   }
  }
 ],
 "metadata": {
  "kernelspec": {
   "display_name": "Python 3",
   "language": "python",
   "name": "python3"
  },
  "language_info": {
   "codemirror_mode": {
    "name": "ipython",
    "version": 2
   },
   "file_extension": ".py",
   "mimetype": "text/x-python",
   "name": "python",
   "nbconvert_exporter": "python",
   "pygments_lexer": "ipython2",
   "version": "2.7.6"
  }
 },
 "nbformat": 4,
 "nbformat_minor": 0
}
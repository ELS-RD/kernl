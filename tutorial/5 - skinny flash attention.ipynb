{
 "cells": [
  {
   "cell_type": "code",
   "execution_count": 1,
   "outputs": [],
   "source": [
    "import torch\n",
    "\n",
    "torch.manual_seed(456)\n",
    "\n",
    "N, d = 20, 8\n",
    "\n",
    "Q_mat = torch.rand((N, d))\n",
    "K_mat = torch.rand((N, d))\n",
    "V_mat = torch.rand((N, d))"
   ],
   "metadata": {
    "collapsed": false
   }
  },
  {
   "cell_type": "code",
   "execution_count": 2,
   "metadata": {
    "collapsed": false
   },
   "outputs": [],
   "source": [
    "Bi = 2\n",
    "Bj = 2\n",
    "O = torch.zeros((N, d))\n",
    "S = torch.zeros((N, N))\n",
    "for block_start_Bi in range(0, N, Bi):\n",
    "    block_end_Bi = block_start_Bi + Bi\n",
    "    Qi = Q_mat[block_start_Bi:block_end_Bi, :]  # shape Br x d\n",
    "    acc = torch.zeros(Bi, d)\n",
    "    for block_start_j in range(0, N, Bj):\n",
    "        block_end_Bj = block_start_j + Bj\n",
    "        Kj = K_mat[block_start_j:block_end_Bj, :]  # shape Br x d\n",
    "        Sj = Qi @ Kj.T  # shape Br x Br\n",
    "        Vj = V_mat[block_start_j:block_end_Bj, :]  # shape Br x d\n",
    "        acc += Sj @ Vj\n",
    "\n",
    "    O[block_start_Bi:block_end_Bi, :] += acc\n",
    "\n",
    "assert block_end_Bi == block_end_Bj == N\n",
    "assert torch.allclose(O, (Q_mat @ K_mat.T) @ V_mat)\n"
   ]
  }
 ],
 "metadata": {
  "kernelspec": {
   "display_name": "Python 3.10.4 64-bit",
   "language": "python",
   "name": "python3"
  },
  "language_info": {
   "codemirror_mode": {
    "name": "ipython",
    "version": 2
   },
   "file_extension": ".py",
   "mimetype": "text/x-python",
   "name": "python",
   "nbconvert_exporter": "python",
   "pygments_lexer": "ipython2",
   "version": "3.8.9"
  },
  "vscode": {
   "interpreter": {
    "hash": "31f2aee4e71d21fbe5cf8b01ff0e069b9275f58929596ceb00d14d90e3e16cd6"
   }
  }
 },
 "nbformat": 4,
 "nbformat_minor": 0
}

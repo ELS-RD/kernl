{
 "cells": [
  {
   "cell_type": "markdown",
   "metadata": {
    "pycharm": {
     "name": "#%% md\n"
    }
   },
   "source": [
    "# Computing coordinates on Triton GEMM example\n",
    "\n",
    "The tutorial is available here: https://triton-lang.org/master/getting-started/tutorials/03-matrix-multiplication.html#sphx-glr-getting-started-tutorials-03-matrix-multiplication-py\n",
    "\n",
    "The most important part is the disrtibution of the work accross the GPU.  \n",
    "Triton has a concept of `program` which are basically the smallest units of work.  \n",
    "\n",
    "The order in which these programs are executed has a direct impact on the performance of the computation.  \n",
    "In the matmul example, `triton` authors introduce the notion of groups of programs.  \n",
    "It's an optimized way to execute the programs in parallel where many program will share the same memory access.  \n",
    "Memory access is the most expensive operation in the kernel execution, often much more than the computation itself.  \n",
    "\n",
    "The part of the tutorial we are interested in:\n",
    "\n",
    "```python\n",
    "# program ID\n",
    "pid = tl.program_id(axis=0)\n",
    "# number of program ids along the M axis\n",
    "num_pid_m = tl.cdiv(M, BLOCK_SIZE_M)\n",
    "# number of programs ids along the N axis\n",
    "num_pid_n = tl.cdiv(N, BLOCK_SIZE_N)\n",
    "# number of programs in group\n",
    "num_pid_in_group = GROUP_SIZE_M * num_pid_n\n",
    "# id of the group this program is in\n",
    "group_id = pid // num_pid_in_group\n",
    "# row-id of the first program in the group\n",
    "first_pid_m = group_id * GROUP_SIZE_M\n",
    "# if `num_pid_m` isn't divisible by `GROUP_SIZE_M`, the last group is smaller\n",
    "group_size_m = min(num_pid_m - first_pid_m, GROUP_SIZE_M)\n",
    "# *within groups*, programs are ordered in a column-major order\n",
    "# row-id of the program in the *launch grid*\n",
    "pid_m = first_pid_m + (pid % group_size_m)\n",
    "# col-id of the program in the *launch grid*\n",
    "pid_n = (pid % num_pid_in_group) // group_size_m\n",
    "```\n",
    "\n",
    "We will try to redo the computation in `numpy` to see what it means.  \n"
   ]
  },
  {
   "cell_type": "markdown",
   "metadata": {
    "pycharm": {
     "name": "#%% md\n"
    }
   },
   "source": [
    "reminder Gaetan explanations:\n",
    "\n",
    "```python\n",
    "# Le but est de grouper les processus pour que un des parcours (M ou N) soit limité à une zone précise\n",
    "# On choisit donc des petits groupes sur M de taille GROUP_SIZE_M\n",
    "# Pour chacun de ces groupes on va parcourir tous les block sur la dimension N mais on va reste dans le groupe pour la dimension M\n",
    "\n",
    "# On note le nombre de programmes qui vont s'executer sur chaque axe\n",
    "num_pid_m = cdiv(M, BLOCK_SIZE_M)\n",
    "num_pid_n = cdiv(N, BLOCK_SIZE_N)\n",
    "\n",
    "# On a GROUP_SIZE_M programme sur M qui vont s'executer pour chacun des num_pid_n process sur l'axe N\n",
    "# Donc on va attendre num_pid_in_group instance avant de passer au groupe suivant\n",
    "num_pid_in_group = GROUP_SIZE_M * num_pid_n\n",
    "\n",
    "# ça permet que les premier num_pid_in_group soient dans le groupe 1, etc...\n",
    "group_id = pid // num_pid_in_group\n",
    "\n",
    "# A ce stade on a notre groupe maintenant faut  se positionner sur M et N\n",
    "# Le premier id dans le groupe, sachant que l'id actuel est > à ce nombre\n",
    "first_pid_m = group_id * GROUP_SIZE_M\n",
    "\n",
    "# C'est si le process sur M est pas divisible par GROUP_SIZE_M\n",
    "# Par exemple 15 process et des groupes de 8\n",
    "# group_size_m = 15 - 8 = 7 et on a bien que 7 process dans le second groupe\n",
    "# Pour le premier groupe  15 - 0 = 15 et GROUP_SIZE_M est 8, et on a bien 8 process dans le premier groupe\n",
    "group_size_m = min(num_pid_m - first_pid_m, GROUP_SIZE_M)\n",
    "# *within groups*, programs are ordered in a column-major order\n",
    "# row-id of the program in the *launch grid*\n",
    "# \n",
    "# DOnc en gros on first_pid_m qui est le premier id de ntore groupe et on a notre id actuel qui est supérieur à ce nombre\n",
    "# Faut maintenant se prosision sur une grille de taille GROUP_SIZE_M x num_pid_n\n",
    "# On veut faire varier M d'abord donc on va parcourir la dimension GROUP_SIZE_M dans notre groupe\n",
    "pid_m = first_pid_m + (pid % group_size_m)\n",
    "# pendant qu'on fait varier sur l'axe GROUP_SIZE_M on peut que ça bouge pas sur N (pid % num_pid_in_group) c'est l'index relative au groupe\n",
    "# et avec // group_size_m du coupe pour les group_size_m premier on sera à 0 sur N, etc...\n",
    "pid_n = (pid % num_pid_in_group) // group_size_m\n",
    "```"
   ]
  },
  {
   "cell_type": "code",
   "execution_count": 1,
   "metadata": {
    "pycharm": {
     "name": "#%%\n"
    }
   },
   "outputs": [
    {
     "name": "stdout",
     "output_type": "stream",
     "text": [
      "C [1024x768] = A [1024x128] * B [128x768]\n",
      "num_pid_m: 8\n",
      "num_pid_n: 12\n",
      "num_pid_n * GROUP_SIZE_M = 24\n"
     ]
    }
   ],
   "source": [
    "import numpy as np\n",
    "\n",
    "def cdiv(x, y):\n",
    "    \"\"\"\n",
    "    Ceiling division returns the closest integer greater than or equal to the quotient.\n",
    "    \"\"\"\n",
    "    return (x + y - 1) // y\n",
    "\n",
    "\n",
    "M = 1024\n",
    "N = 768\n",
    "K = 128\n",
    "\n",
    "print(f\"C [{M}x{N}] = A [{M}x{K}] * B [{K}x{N}]\")\n",
    "\n",
    "a = np.random.rand(M, K)\n",
    "b = np.random.rand(K, N)\n",
    "c = np.random.rand(M, N)\n",
    "\n",
    "# tile sizes\n",
    "BLOCK_SIZE_M = 128\n",
    "BLOCK_SIZE_N = 64\n",
    "BLOCK_SIZE_K = 32\n",
    "GROUP_SIZE_M = 2\n",
    "\n",
    "num_pid_m = cdiv(M, BLOCK_SIZE_M)  # number of programs in M dimension\n",
    "num_pid_n = cdiv(N, BLOCK_SIZE_N)  # number of programs in N dimension\n",
    "\n",
    "print(\"num_pid_m:\", num_pid_m)\n",
    "print(\"num_pid_n:\", num_pid_n)\n",
    "print(\"num_pid_n * GROUP_SIZE_M =\", num_pid_n * GROUP_SIZE_M)\n"
   ]
  },
  {
   "cell_type": "markdown",
   "metadata": {
    "pycharm": {
     "name": "#%% md\n"
    }
   },
   "source": [
    "`Program` is the smallest unit of work in `Triton`.  \n",
    "They may be executed in parallel, and the order in which they are executed is important for performances.  \n",
    "\n",
    "Indeed, a key element for the performance is to limit the memory accesses as it is one of the most expensive operation\n",
    "in the kernel execution (often more than the computation itself).  \n",
    "For that purpose we will try to execute in parallel programs that share memory accesses.\n",
    "\n",
    "Each program has a unique id, which is the index of the program in the list of programs.  \n",
    "As each program will  iterate over the `K` axis, the formula below will provide us the number of programs to launch:\n",
    "\n",
    "```python\n",
    "grid = lambda META: (\n",
    "    triton.cdiv(M, META['BLOCK_SIZE_M']) * triton.cdiv(N, META['BLOCK_SIZE_N']),\n",
    ")\n",
    "```\n",
    "\n",
    "Below, we redo the computation with the variables defined above."
   ]
  },
  {
   "cell_type": "code",
   "execution_count": 2,
   "metadata": {
    "pycharm": {
     "name": "#%%\n"
    }
   },
   "outputs": [
    {
     "name": "stdout",
     "output_type": "stream",
     "text": [
      "nb programs to launch: 96\n"
     ]
    }
   ],
   "source": [
    "nb_programs = num_pid_m * num_pid_n  # number of programs to launch\n",
    "print(\"nb programs to launch:\", nb_programs)"
   ]
  },
  {
   "cell_type": "code",
   "execution_count": 3,
   "metadata": {
    "pycharm": {
     "name": "#%%\n"
    }
   },
   "outputs": [],
   "source": [
    "# some example program ID\n",
    "pid = 60\n",
    "assert pid < nb_programs, f\"we will launch a {num_pid_m}x{num_pid_n}={nb_programs} grid of programs, pid={pid} is too big\""
   ]
  },
  {
   "cell_type": "markdown",
   "metadata": {
    "pycharm": {
     "name": "#%% md\n"
    }
   },
   "source": [
    "We need at least `num_pid_m` programs to cover the `M` axis (number of rows of matrix `A`) and `num_pid_n` programs\n",
    "to cover the `N` axis (number of columns of matrix `B`).  \n",
    "Each of those programs will have to iterate over the `K` axis of `A` and `B` matrices.  \n",
    "\n",
    "The goal of our strategy is to reuse data as much as possible.  \n",
    "For that, we will run in parallel several programs that need the same data from one of the input matrix.  \n",
    "\n",
    "Each `program` consumes `A` and `B` matrices.  \n",
    "We can reuse either data from `A` or `B`, we arbitrarily choose to reuse data from `B`.  \n",
    "It means that we run several programs on different rows of `A` (axis `M`) matrix that consume the same column from `B` (axis `N`).\n",
    "\n",
    "> reminder: each `program` is responsible to iterate over `K` axis\n",
    "\n",
    "If we expresse that logic in pseudo code, it would look like a nested loop where the outer loop (axis `N` of `B` matrix) is mostly serially iterated  \n",
    " and the inner loop (axis `M` of `A` matrix) is parallelized.\n",
    "\n",
    "\n",
    "<!-- TODO range are not true -->\n",
    "```python\n",
    "for pos_n in range(num_pid_n):  # serialized iteration\n",
    "    for pos_m in range(num_pid_m):  # GROUP_SIZE_M programs in parallel\n",
    "        # each program is associated with a position on the M and N axis and will iterate itself over the K axis\n",
    "        do_work()\n",
    "```\n",
    "\n",
    "\n",
    "Each group of `GROUP_SIZE_M` programs (which are positioned on `GROUP_SIZE_M` different rows on the `M` axis of `A`) \n",
    "will consume same complete column of the `N` axis of `B` matrix before switching to the next group.  \n",
    "We need `GROUP_SIZE_M * num_pid_n` programs to finish the computation of a single `C` matrix block."
   ]
  },
  {
   "cell_type": "code",
   "execution_count": 4,
   "metadata": {
    "pycharm": {
     "name": "#%%\n"
    }
   },
   "outputs": [
    {
     "name": "stdout",
     "output_type": "stream",
     "text": [
      "24\n"
     ]
    }
   ],
   "source": [
    "num_pid_in_group = GROUP_SIZE_M * num_pid_n\n",
    "assert num_pid_n * GROUP_SIZE_M <= M\n",
    "print(num_pid_in_group)\n"
   ]
  },
  {
   "cell_type": "markdown",
   "metadata": {
    "pycharm": {
     "name": "#%% md\n"
    }
   },
   "source": [
    "If we need `num_pid_in_group` programs to process a single `C` block, we can guess the group id of the current program:"
   ]
  },
  {
   "cell_type": "code",
   "execution_count": 5,
   "metadata": {
    "pycharm": {
     "name": "#%%\n"
    }
   },
   "outputs": [
    {
     "name": "stdout",
     "output_type": "stream",
     "text": [
      "2\n"
     ]
    }
   ],
   "source": [
    "group_id = pid // num_pid_in_group\n",
    "print(group_id)"
   ]
  },
  {
   "cell_type": "markdown",
   "metadata": {
    "pycharm": {
     "name": "#%% md\n"
    }
   },
   "source": [
    "Now we will:\n",
    "* compute the `pid` of the first program in our group;\n",
    "* compute the real size of the group, we want to catch the case of the last group of the row and its dimension is inferior to the others.\n"
   ]
  },
  {
   "cell_type": "code",
   "execution_count": 6,
   "metadata": {
    "pycharm": {
     "name": "#%%\n"
    }
   },
   "outputs": [
    {
     "name": "stdout",
     "output_type": "stream",
     "text": [
      "first_pid_m: 4\n",
      "group_size_m: 2\n"
     ]
    }
   ],
   "source": [
    "# row-id of the first program in the group\n",
    "first_pid_m = group_id * GROUP_SIZE_M\n",
    "\n",
    "print(\"first_pid_m:\", first_pid_m)\n",
    "# if `num_pid_m` isn't divisible by `GROUP_SIZE_M`, the last group is smaller\n",
    "group_size_m = min(num_pid_m - first_pid_m, GROUP_SIZE_M)\n",
    "print(\"group_size_m:\", group_size_m)\n",
    "\n",
    "assert group_size_m > 0"
   ]
  },
  {
   "cell_type": "markdown",
   "metadata": {
    "pycharm": {
     "name": "#%% md\n"
    }
   },
   "source": [
    "We know which group we are part of, so we just need to find our spot in this group.  \n",
    "> As noted in the original comments of the tutorial *\"within groups, programs are ordered in a column-major order \n",
    "> row-id of the program in the launch grid\"*"
   ]
  },
  {
   "cell_type": "code",
   "execution_count": 7,
   "metadata": {
    "pycharm": {
     "name": "#%%\n"
    }
   },
   "outputs": [
    {
     "name": "stdout",
     "output_type": "stream",
     "text": [
      "pid_m: 4\n",
      "pid_n: 6\n"
     ]
    }
   ],
   "source": [
    "pid_m = first_pid_m + (pid % group_size_m)\n",
    "print(\"pid_m:\", pid_m)\n",
    "\n",
    "pid_n = (pid % num_pid_in_group) // group_size_m\n",
    "print(\"pid_n:\", pid_n)"
   ]
  },
  {
   "cell_type": "markdown",
   "metadata": {},
   "source": [
    "To finish, we need some simple broadcasted operations to convert our `pid` to an array of offsets we will read:"
   ]
  },
  {
   "cell_type": "code",
   "execution_count": 8,
   "metadata": {
    "pycharm": {
     "name": "#%%\n"
    }
   },
   "outputs": [],
   "source": [
    "a_ptr, _ = a.__array_interface__['data']\n",
    "b_ptr, _ = b.__array_interface__['data']\n",
    "c_ptr, _ = c.__array_interface__['data']\n",
    "\n",
    "    \n",
    "stride_am, stride_ak =  a.strides\n",
    "stride_bk, stride_bn =  b.strides\n",
    "stride_cm, stride_cn =  c.strides\n",
    "\n",
    "\n",
    "offs_am = pid_m * BLOCK_SIZE_M + np.arange(0, BLOCK_SIZE_M)\n",
    "offs_bn = pid_n * BLOCK_SIZE_N + np.arange(0, BLOCK_SIZE_N)\n",
    "offs_k = np.arange(0, BLOCK_SIZE_K)\n",
    "a_ptrs = a_ptr + (offs_am[:, None] * stride_am + offs_k[None, :] * stride_ak)\n",
    "b_ptrs = b_ptr + (offs_k[:, None] * stride_bk + offs_bn[None, :] * stride_bn)"
   ]
  }
 ],
 "metadata": {
  "kernelspec": {
   "display_name": "Python 3.9.13 ('venv': venv)",
   "language": "python",
   "name": "python3"
  },
  "language_info": {
   "codemirror_mode": {
    "name": "ipython",
    "version": 3
   },
   "file_extension": ".py",
   "mimetype": "text/x-python",
   "name": "python",
   "nbconvert_exporter": "python",
   "pygments_lexer": "ipython3",
   "version": "3.9.13"
  },
  "orig_nbformat": 4,
  "vscode": {
   "interpreter": {
    "hash": "9304613f370859586d5dde245ba17471fe0e4bae74a871b63d1672bdb9f882ed"
   }
  }
 },
 "nbformat": 4,
 "nbformat_minor": 2
}
